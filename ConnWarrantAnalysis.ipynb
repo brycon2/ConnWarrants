{
 "cells": [
  {
   "cell_type": "markdown",
   "metadata": {},
   "source": [
    "# Population and Demographic Analysis of Warrants in Connecticut"
   ]
  },
  {
   "cell_type": "markdown",
   "metadata": {},
   "source": [
    "## Background"
   ]
  },
  {
   "cell_type": "markdown",
   "metadata": {},
   "source": [
    "## Methods\n",
    "All of the data is compiled \n",
    "\n",
    "##\n",
    "There are 3 forms of active warrant information provided by the Criminal Justice Policy and Planning Division in Connecticut. \n",
    "1. Failure to appear (FTA) warrants for criminal and motor vehicle related claims\n",
    "2. Violation of probation (VOP) warrants\n",
    "3. Order to incarcerate (OTI) warrants\n",
    "\n",
    "In addition, the data gives us the following information:\n",
    " - the number of active warrants with law enforcement actions noted\n",
    " - the number of warrants issued in just this month\n",
    " - the number of served warrants for the month\n",
    " - the number of warrants signed by the municipality but served by another jurisdiction\n",
    " - total number of active warrants signed by the municipality\n",
    "\n"
   ]
  },
  {
   "cell_type": "markdown",
   "metadata": {},
   "source": [
    "### Warrant and Population Demographic Relations"
   ]
  },
  {
   "cell_type": "code",
   "execution_count": 2,
   "metadata": {},
   "outputs": [],
   "source": [
    "import pandas as pd"
   ]
  },
  {
   "cell_type": "code",
   "execution_count": 83,
   "metadata": {},
   "outputs": [],
   "source": [
    "# import warrant, demographic, economic, and crime data\n",
    "\n",
    "warrant_data = pd.read_csv('./Data/WarrantData2019.csv', index_col = 0) # data cleaning done in MonthMerge.py\n",
    "demo_data = pd.read_csv('./Data/2010_2020_population_changes.csv', na_values=' -   ').fillna(0)\n",
    "econ_data = pd.read_csv('./Data/EconData.csv', index_col = 0) # data handling done in EconDataConn.py\n",
    "# reading file, shifting headers and removing population column as we have our census population \n",
    "crime_data = pd.read_excel('Data/connecticut-crime-2019.xls', header= 4 ).drop(columns = 'Population')\n",
    "\n",
    "### Demographic data handling\n",
    "\n",
    "# remove non-town data\n",
    "demo_data = demo_data[demo_data['geo_type']=='town'].reset_index(drop = True)\n",
    "\n",
    "# create new column that combines race and age for pivoting later and rename town name to municipality\n",
    "demo_data['Demographic'] = demo_data['race_ethnicity']+ ' ' + demo_data['age']\n",
    "demo_data.rename(columns = {'name':'Municipality'}, inplace = True)\n",
    "\n",
    "# drop geo_type, 2010, race, age, and pop. change columns\n",
    "demo_data.drop(['geo_type',' 2010_population ','change_2010_2020','percent_change_2010_2020','race_ethnicity','age'], \n",
    "axis = 1, inplace=True)\n",
    "\n",
    "# pivot the long demo data to wide\n",
    "demo_data = demo_data.pivot(index = 'Municipality',columns = 'Demographic',values = ' 2020_population ')\n",
    "\n",
    "# renaming demo data column names so they are much shorter\n",
    "demo_data.rename(lambda x: x.replace('Hispanic','Hisp.'), axis = 1, inplace = True)\n",
    "demo_data.rename(lambda x: x.replace('of any race','any race'), axis = 1, inplace = True)\n",
    "demo_data.rename(lambda x: x.replace('Two or More Races','Multiple Races'), axis = 1, inplace = True)\n",
    "\n",
    "\n",
    "# Removing commas from column values and then converting these columns to numeric\n",
    "demo_data.replace(',','',regex = True, inplace=True)\n",
    "demo_numeric_cols = [i for i in demo_data.columns if i not in ['Municipality']]\n",
    "for col in demo_numeric_cols:\n",
    "    demo_data[col] = pd.to_numeric(demo_data[col])\n",
    "\n",
    "### Importing Crime Data\n",
    "\n",
    "# removing regex \\n characters from the column names\n",
    "crime_data.rename(lambda x: x.replace('\\n',' '), axis = 1, inplace = True)\n",
    "# changing column names for consistency purposes\n",
    "crime_data.rename(columns={'City':'Municipality','Rape1':'Rape','Larceny- theft':'Larceny-theft'},inplace = True)\n",
    "\n",
    "\n",
    "# merging the dataframes\n",
    "final_data = pd.merge(warrant_data,demo_data, on = 'Municipality').merge(econ_data, on='Municipality').merge(crime_data, on = 'Municipality')"
   ]
  },
  {
   "cell_type": "markdown",
   "metadata": {},
   "source": [
    "Creating annual data from the monthly format given"
   ]
  },
  {
   "cell_type": "code",
   "execution_count": 84,
   "metadata": {},
   "outputs": [],
   "source": [
    "# get list of months and municipalities to iterate through\n",
    "from numpy import integer\n",
    "\n",
    "\n",
    "months = warrant_data['Month'].unique()\n",
    "municipalities = warrant_data['Municipality'].unique()\n",
    "\n",
    "# creating annual data from the monthly data we already have in warrant_data\n",
    "warrant_annual_data = pd.DataFrame(columns = warrant_data.columns.drop(['Month','FTA Warrants','VOP Warrants','OTI Warrants','Total Warrants']))\n",
    "\n",
    "for municipalitiy in municipalities:\n",
    "     annual_data = [municipalitiy]\n",
    "     for column in warrant_annual_data.columns.drop('Municipality'):\n",
    "          columnsum = 0\n",
    "          for month in months:\n",
    "               columnsum += int(warrant_data.loc[(warrant_data['Month']==month) & (warrant_data['Municipality']==municipalitiy),column])\n",
    "          annual_data.append(columnsum)\n",
    "          \n",
    "     warrant_annual_data.loc[len(warrant_annual_data)] = annual_data\n",
    "final_annual_data = pd.merge(warrant_annual_data,demo_data, on = 'Municipality').merge(econ_data, on='Municipality').merge(crime_data, on = 'Municipality')"
   ]
  },
  {
   "cell_type": "markdown",
   "metadata": {},
   "source": [
    "## Per Capita Visualizations"
   ]
  },
  {
   "cell_type": "code",
   "execution_count": 12,
   "metadata": {},
   "outputs": [],
   "source": [
    "import matplotlib.pyplot as plt\n",
    "import numpy as np"
   ]
  },
  {
   "cell_type": "code",
   "execution_count": 100,
   "metadata": {},
   "outputs": [
    {
     "data": {
      "image/png": "[encoded data removed]",
      "text/plain": [
       "<Figure size 432x288 with 1 Axes>"
      ]
     },
     "metadata": {
      "needs_background": "light"
     },
     "output_type": "display_data"
    }
   ],
   "source": [
    "plt.scatter(x = final_annual_data['Violent crime']/final_annual_data['total total'], y = final_annual_data['Issued Warrants']/final_annual_data['total total'])\n",
    "plt.title('Violent Crime vs. Issued Warrants (per capita)')\n",
    "plt.xlabel('Violent Crime Arrests (per Capita)')\n",
    "plt.ylabel('Issued Warrants (per Capita)')\n",
    "#adding line of best fit\n",
    "a,b = np.polyfit(final_annual_data['Violent crime']/final_annual_data['total total'],y = final_annual_data['Issued Warrants']/final_annual_data['total total'], deg = 1)\n",
    "plt.plot(final_annual_data['Violent crime']/final_annual_data['total total'], a*final_annual_data['Violent crime']/final_annual_data['total total'] + b, color = 'red')\n",
    "plt.show()"
   ]
  }
 ],
 "metadata": {
  "kernelspec": {
   "display_name": "Python 3.8.10 ('warrants-venv': venv)",
   "language": "python",
   "name": "python3"
  },
  "language_info": {
   "codemirror_mode": {
    "name": "ipython",
    "version": 3
   },
   "file_extension": ".py",
   "mimetype": "text/x-python",
   "name": "python",
   "nbconvert_exporter": "python",
   "pygments_lexer": "ipython3",
   "version": "3.8.10"
  },
  "orig_nbformat": 4,
  "vscode": {
   "interpreter": {
    "hash": "520358c9738c182448932678ca450dd83fba9658a24c74c3d6b460dd2ec51355"
   }
  }
 },
 "nbformat": 4,
 "nbformat_minor": 2
}
