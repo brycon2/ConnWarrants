{
 "cells": [
  {
   "cell_type": "markdown",
   "metadata": {},
   "source": [
    "# Population and Demographic Analysis of Warrants in Connecticut"
   ]
  },
  {
   "cell_type": "markdown",
   "metadata": {},
   "source": [
    "## Information about the data\n",
    "\n",
    "There are 3 forms of active warrant information provided by the Criminal Justice Policy and Planning Division in Connecticut. \n",
    "1. Failure to appear (FTA) warrants for criminal and motor vehicle related claims\n",
    "2. Violation of probation (VOP) warrants\n",
    "3. Order to incarcerate (OTI) warrants\n",
    "\n",
    "In addition, the data gives us the following information:\n",
    " - the number of active warrants with law enforcement actions noted\n",
    " - the number of warrants issued in just this month\n",
    " - the number of served warrants for the month\n",
    " - the number of warrants signed by the municipality but served by another jurisdiction\n",
    " - total number of active warrants signed by the municipality\n",
    "\n"
   ]
  },
  {
   "cell_type": "markdown",
   "metadata": {},
   "source": [
    "## Warrant and Population Demographic Relations"
   ]
  },
  {
   "cell_type": "code",
   "execution_count": 1,
   "metadata": {},
   "outputs": [],
   "source": [
    "import pandas as pd\n",
    "import matplotlib as plt"
   ]
  },
  {
   "cell_type": "code",
   "execution_count": 82,
   "metadata": {},
   "outputs": [],
   "source": [
    "# import warrant and Conn. population data\n",
    "warrant_data = pd.read_csv('./Data/WarrantData2019.csv', index_col= 0)\n",
    "demo_data = pd.read_csv('./Data/2010_2020_population_changes.csv')\n",
    "\n",
    "\n",
    "# rename warrant data columns\n",
    "warrant_data.rename(columns = {'Municipality *':'Municipality','Warrants with \\nLaw \\nEnforcement \\nActions Noted':'Warrants with LEA', \n",
    " 'Issued Warrants \\nFor Month':'Issued Warrants','Served Warrants \\n For Month':'Served Warrants',\n",
    " 'Warrants \\nForeign Served \\nFor Month':'Warrants Foreign Served'},inplace = True)\n",
    "\n",
    "\n",
    "#demo data will require some extra work with pivoting and removing extraneous data\n",
    "\n",
    "# remove non-town data\n",
    "demo_data = demo_data[demo_data['geo_type']=='town'].reset_index(drop = True)\n",
    "\n",
    "# create new column that combines race and age for pivoting later and rename town name to municipality\n",
    "demo_data['Demographic'] = demo_data['race_ethnicity']+ ' ' + demo_data['age']\n",
    "demo_data.rename(columns = {'name':'Municipality'}, inplace = True)\n",
    "\n",
    "# drop geo_type, 2010, race, age, and pop. change columns\n",
    "demo_data.drop(['geo_type',' 2010_population ','change_2010_2020','percent_change_2010_2020','race_ethnicity','age'], \n",
    "axis = 1, inplace=True)\n",
    "\n",
    "# pivot the long demo data to wide\n",
    "demo_data = demo_data.pivot(index = 'Municipality',columns = 'Demographic',values = ' 2020_population ')\n",
    "\n",
    "warrant_demo_data = pd.merge(warrant_data,demo_data, on = 'Municipality')"
   ]
  },
  {
   "cell_type": "code",
   "execution_count": null,
   "metadata": {},
   "outputs": [],
   "source": []
  }
 ],
 "metadata": {
  "kernelspec": {
   "display_name": "Python 3.8.10 ('warrants-venv': venv)",
   "language": "python",
   "name": "python3"
  },
  "language_info": {
   "codemirror_mode": {
    "name": "ipython",
    "version": 3
   },
   "file_extension": ".py",
   "mimetype": "text/x-python",
   "name": "python",
   "nbconvert_exporter": "python",
   "pygments_lexer": "ipython3",
   "version": "3.8.10"
  },
  "orig_nbformat": 4,
  "vscode": {
   "interpreter": {
    "hash": "520358c9738c182448932678ca450dd83fba9658a24c74c3d6b460dd2ec51355"
   }
  }
 },
 "nbformat": 4,
 "nbformat_minor": 2
}
